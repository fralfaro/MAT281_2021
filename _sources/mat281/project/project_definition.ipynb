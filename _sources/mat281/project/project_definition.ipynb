{
 "cells": [
  {
   "cell_type": "markdown",
   "metadata": {},
   "source": [
    "# Proyecto Final"
   ]
  },
  {
   "cell_type": "markdown",
   "metadata": {},
   "source": [
    "La finalidad de este proyecto es enfrentar a los estudiantes a problemas de Machine Learning con todas las etapas (típicas) que eso implica, basándose en cada uno de los módulos aprendidos a lo largo del curso, dando pie a la investigación y a la solución de problemas operacionales del mundo real.\n",
    "\n",
    "Información importante del proyecto:\n",
    "\n",
    "* *Fecha*: 28 de diciembre del 2021 a las 14:30 pm\n",
    "* Grupos de 5 alumnos (se escogen de manera aleatoria)\n",
    "* La presentación consta de 15-20 minutos. Luego, hay un espacio de preguntas de 10 minutos.\n",
    "* Se tienen 4 grandes temas de trabajo: regresión,clasificación, sistema de recomendación y series temporales. Dentro de cada tema, hay 2-3 conjunto de datos. Cada grupo de escoger un conjunto de datos para cada tema con su respectiva prioridad (1 mayor prioridad y 4 menor prioridad). Para inscribir su grupo deben enviar un correo a **francisco.alfaro.496@gmail.com** indicando nombre de los integrantes con el tema y conjuntos de datos a trabajar. En caso de que el tema de ambos grupos sea el mismo:\n",
    "    * El grupo con menos de 5 alumnos, tendrá prioridad en escoger el tema.\n",
    "    * Se escogerá al azar el grupo con el tema objetivo.\n",
    "* Utilizar diapositivas con [RISE](https://rise.readthedocs.io/en/stable/). Se deja el siguiente el siguiente [tutorial](https://fralfaro.github.io/ds_blog/jupyter/2021/08/05/rise.html) a modo de ejemplo.\n",
    "* Al comienzo de la presentación, se escoge a un miembro del grupo para que de inicio la presentación, luego, durante el transcurso de la presentación se le pedirá a otro miembro que siga la presentación hasta que se presenten al menos 3 estudiantes.\n",
    "\n",
    "\n",
    "El comite de evaluación estará conformado por:\n",
    "* [Francisco Alfaro Medina](https://www.linkedin.com/in/faam/)\n",
    "* [Sebastian Torres](https://www.linkedin.com/in/sebasti%C3%A1n-torres-5827b21b/) \n",
    "* [Alonso Ogueda Oliva](https://www.linkedin.com/in/aoguedaoliva/) \n",
    "* [Alberto Rubio Suazo](https://www.linkedin.com/in/arubiosu/)\n",
    "* [Eric Zepeda](https://www.linkedin.com/in/eric-zepeda-3b6b9897/)"
   ]
  },
  {
   "cell_type": "markdown",
   "metadata": {},
   "source": [
    "## Rúbrica\n",
    "\n",
    "\n",
    "\n",
    "1. Definición del problema (5 puntos)\n",
    "2. Estadística descriptiva (5 puntos)\n",
    "3. Visualización descriptiva (10 puntos)\n",
    "4. Preprocesamiento (20 puntos\n",
    "5. Selección de modelo (35 puntos)\n",
    "    1. Por lo menos debe comparar cuatro modelos\n",
    "    2. Al menos tres de estos modelos tienen que tener hiperparámetros.\n",
    "    3. Realizar optimización de hiperparámetros.\n",
    "6. Métricas y análisis de resultados (10 puntos)\n",
    "7. Visualizaciones del modelo (10 puntos)\n",
    "8. Conclusiones (5 puntos)\n",
    "\n",
    "> **Observación**: Tendrá una mejor puntación si también incorpora modelos de redes neuronales. Se deja un [tutorial de tensorflow](https://www.tensorflow.org/tutorials?hl=es-419) a modo de ejemplo."
   ]
  },
  {
   "cell_type": "markdown",
   "metadata": {},
   "source": [
    "## Proyectos\n",
    "\n",
    "\n",
    "### Regression \n",
    "* [Medical Cost Personal Datasets](https://www.kaggle.com/mirichoi0218/insurance) — Insurance Forecast by using Linear Regression.\n",
    "\n",
    "* [Life Expectancy](https://www.kaggle.com/kumarajarshi/life-expectancy-who) — Good one for experimenting with your EDA skills also.\n",
    "\n",
    "\n",
    "### Classification \n",
    "\n",
    "* [IBM HR Analytics Employee Attrition & Performance](https://www.kaggle.com/pavansubhasht/ibm-hr-analytics-attrition-dataset): Predict attrition of your valuable employees.\n",
    "* [Campus Recruitment](https://www.kaggle.com/benroshan/factors-affecting-campus-placement) — Determine if a student gets placed based on various features.\n",
    "\n",
    "\n",
    "### Recommender Systems\n",
    "* [MovieLens Dataset](https://www.kaggle.com/grouplens/movielens-20m-dataset) — A classic one for starting out, predict which movie to recommend.\n",
    "* [Goodreads Books](https://www.kaggle.com/jealousleopard/goodreadsbooks) — Detailed information about books through numerous columns for building a book recommender engine. This is my personal favourite for getting a hang out of actually attempting the recommendation task.\n",
    "* [Netflix Data](https://www.kaggle.com/shivamb/netflix-shows/tasks) — collection of movies + TV shows details until 2019, also a great one for some practical exposure to a real world application.\n",
    "\n",
    "### Time Series Analysis\n",
    "* [E-Commerse Sales](https://www.kaggle.com/carrie1/ecommerce-data) — For predicting sales/transaction for a store. The classic time series forecasting job.\n",
    "* [Minimum Daily Temperatures](https://www.kaggle.com/paulbrabban/daily-minimum-temperatures-in-melbourne) — This dataset describes the minimum daily temperatures over 10 years in the city Melbourne, Australia.\n",
    "* [Household Electric Power Consumption](https://www.kaggle.com/uciml/electric-power-consumption-data-set) — Has measurements of electric power consumption in one household with a one-minute sampling rate over a period of 4 years."
   ]
  },
  {
   "cell_type": "markdown",
   "metadata": {},
   "source": [
    "## Selección de los grupos (al azar)\n"
   ]
  },
  {
   "cell_type": "code",
   "execution_count": 1,
   "metadata": {},
   "outputs": [
    {
     "name": "stdout",
     "output_type": "stream",
     "text": [
      "grupo 1: ['matias.barra.14@sansano.usm.cl', 'ana.morenop@sansano.usm.cl', 'maryon.morales@sansano.usm.cl', 'jose.ceav@sansano.usm.cl', 'cristobal.lobos@sansano.usm.cl']\n",
      "\n",
      "grupo 2: ['jasmin.quiero@sansano.usm.cl', 'nicolas.riverag@sansano.usm.cl', 'javiera.gonzalezri@sansano.usm.cl', 'francisca.burgos@sansano.usm.cl', 'felix.vergarap@sansano.usm.cl']\n",
      "\n",
      "grupo 3: ['diego.pintos@sansano.usm.cl', 'felipe.leiva.13@sansano.usm.cl', 'eduardo.carriel@sansano.usm.cl', 'gabriel.moya@sansano.usm.cl', 'ariadne.sandoval@sansano.usm.cl']\n",
      "\n",
      "grupo 4: ['javiera.cerdac@sansano.usm.cl', 'danny.sanchez@sansano.usm.cl', 'sergio.suarezp@sansano.usm.cl', 'tomas.werth@sansano.usm.cl']\n",
      "\n"
     ]
    }
   ],
   "source": [
    "import random\n",
    "random.seed(281)\n",
    "\n",
    "n = 5 \n",
    "alumnos = [\n",
    "    \"matias.barra.14@sansano.usm.cl\",\n",
    "    \"francisca.burgos@sansano.usm.cl\",\n",
    "    \"eduardo.carriel@sansano.usm.cl\",\n",
    "    \"jose.ceav@sansano.usm.cl\",\n",
    "    \"javiera.cerdac@sansano.usm.cl\",\n",
    "    \"javiera.gonzalezri@sansano.usm.cl\",\n",
    "    \"felipe.leiva.13@sansano.usm.cl\",\n",
    "    \"cristobal.lobos@sansano.usm.cl\",\n",
    "    \"maryon.morales@sansano.usm.cl\",\n",
    "    \"ana.morenop@sansano.usm.cl\",\n",
    "    \"gabriel.moya@sansano.usm.cl\",\n",
    "    \"diego.pintos@sansano.usm.cl\",\n",
    "    \"jasmin.quiero@sansano.usm.cl\",\n",
    "    \"nicolas.riverag@sansano.usm.cl\",\n",
    "    \"danny.sanchez@sansano.usm.cl\",\n",
    "    \"ariadne.sandoval@sansano.usm.cl\",\n",
    "    \"sergio.suarezp@sansano.usm.cl\",\n",
    "    \"felix.vergarap@sansano.usm.cl\",\n",
    "    \"tomas.werth@sansano.usm.cl\",\n",
    "\n",
    "]\n",
    "\n",
    "count = 0\n",
    "l_temp = {}\n",
    "\n",
    "\n",
    "while len(alumnos)>0:\n",
    "    count+=1\n",
    "    if len(alumnos)<n:\n",
    "        temp = alumnos.copy()\n",
    "        l_temp[count] = temp\n",
    "        break\n",
    "    else:\n",
    "        temp = random.sample(alumnos, n)\n",
    "        l_temp[count] = temp\n",
    "        alumnos = [x for x in alumnos if x not in temp ]\n",
    "        \n",
    "        \n",
    "for k,v in l_temp.items():\n",
    "    print(f\"grupo {k}: {v}\\n\")"
   ]
  },
  {
   "cell_type": "markdown",
   "metadata": {},
   "source": [
    "## Definición de grupos con tema\n",
    "\n",
    "* **Grupo 01**: Recommender Systems - Netflix data\n",
    "    * Matias Barra\n",
    "    * Ana Moreno\n",
    "    * Cristobal Lobos\n",
    "    * Maryon Morales \n",
    "    * José Cea\n",
    "    \n",
    "    \n",
    "* **Grupo 02**: Regression - Life Expectancy\n",
    "    * Jasmin Quiero\n",
    "    * Javiera Gonzalez\n",
    "    * Nicolas Rivera\n",
    "    * Felix Vergara\n",
    "    * Francisca Burgos\n",
    "\n",
    "\n",
    "* **Grupo 03**: Classification - Campus Recruitment\n",
    "    * Eduardo Cariel \n",
    "    * Felipe Leiva \n",
    "    * Gabriel Moya \n",
    "    * Diego Pinto \n",
    "    * Ariadne Sandoval \n",
    "\n",
    "\n",
    "* **Grupo 04**: Time Series Analysis - E-Commerse Sales\n",
    "    * Javiera Cerda\n",
    "    * Danny Sanchez\n",
    "    * Sergio Suarez\n",
    "    * Tomas Werth\n",
    "    \n",
    "    \n",
    "* **Grupo Civil**:\n",
    "    * Belén Llanquilef\n",
    "    * Diego Mera\n",
    "    * Alvaro Aravena"
   ]
  }
 ],
 "metadata": {
  "kernelspec": {
   "display_name": "Python 3",
   "language": "python",
   "name": "python3"
  },
  "language_info": {
   "codemirror_mode": {
    "name": "ipython",
    "version": 3
   },
   "file_extension": ".py",
   "mimetype": "text/x-python",
   "name": "python",
   "nbconvert_exporter": "python",
   "pygments_lexer": "ipython3",
   "version": "3.8.8"
  }
 },
 "nbformat": 4,
 "nbformat_minor": 4
}
